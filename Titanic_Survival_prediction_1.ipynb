{
  "nbformat": 4,
  "nbformat_minor": 0,
  "metadata": {
    "colab": {
      "provenance": [],
      "mount_file_id": "1CEgAw7C07AajPd5CAILU-gBBvKHb1xGS",
      "authorship_tag": "ABX9TyNcIDtupb/nEQ1OniBCMwpT",
      "include_colab_link": true
    },
    "kernelspec": {
      "name": "python3",
      "display_name": "Python 3"
    },
    "language_info": {
      "name": "python"
    }
  },
  "cells": [
    {
      "cell_type": "markdown",
      "metadata": {
        "id": "view-in-github",
        "colab_type": "text"
      },
      "source": [
        "<a href=\"https://colab.research.google.com/github/Israr-11/Machine-Learning-model-for-predicting-the-Titanic-survivor/blob/main/Titanic_Survival_prediction_1.ipynb\" target=\"_parent\"><img src=\"https://colab.research.google.com/assets/colab-badge.svg\" alt=\"Open In Colab\"/></a>"
      ]
    },
    {
      "cell_type": "markdown",
      "source": [
        "# Step#01 Importing libraries"
      ],
      "metadata": {
        "id": "DFMPkfQ_kig-"
      }
    },
    {
      "cell_type": "code",
      "source": [
        "import numpy as np\n",
        "import pandas as pd\n",
        "import os\n",
        "import seaborn as sns\n",
        "import matplotlib.pyplot as plt\n",
        "from sklearn.linear_model import LogisticRegression\n",
        "from sklearn.svm import SVC\n",
        "from sklearn.neighbors import KNeighborsClassifier\n",
        "from sklearn.ensemble import RandomForestClassifier\n",
        "from sklearn.tree import DecisionTreeClassifier\n",
        "from sklearn.naive_bayes import GaussianNB\n",
        "from sklearn.metrics import classification_report, accuracy_score, confusion_matrix\n",
        "from sklearn.preprocessing import StandardScaler\n",
        "from sklearn.preprocessing import LabelEncoder\n",
        "from sklearn.model_selection import train_test_split\n",
        "from sklearn.model_selection import GridSearchCV\n",
        "import joblib\n",
        "from google.colab import drive"
      ],
      "metadata": {
        "id": "tdaTaVUH2BTM"
      },
      "execution_count": 23,
      "outputs": []
    },
    {
      "cell_type": "markdown",
      "source": [
        "# Step#02 Importing the datasets"
      ],
      "metadata": {
        "id": "mvMQJYTck0iA"
      }
    },
    {
      "cell_type": "code",
      "source": [
        "#Mount the drive manually before running code, and then give the path\n",
        "path='/content/drive/MyDrive/Datasets/Titanic/'\n",
        "training_dataset=pd.read_csv(path+'train.csv')\n",
        "testing_dataset=pd.read_csv(path+'test.csv')\n",
        "training_dataset.head()"
      ],
      "metadata": {
        "id": "ccIizeFEk8xt"
      },
      "execution_count": null,
      "outputs": []
    },
    {
      "cell_type": "markdown",
      "source": [
        "# Step#03 Exploring the dataset"
      ],
      "metadata": {
        "id": "c9S20O4n_6Yh"
      }
    },
    {
      "cell_type": "code",
      "source": [
        "sns.heatmap(training_dataset.isnull(), cbar=False, cmap='viridis')\n",
        "plt.show()"
      ],
      "metadata": {
        "id": "fndeCrZvAC7x"
      },
      "execution_count": null,
      "outputs": []
    },
    {
      "cell_type": "code",
      "source": [
        "training_dataset.info()\n",
        "training_dataset.describe()\n",
        "sns.countplot(x='Survived', data=training_dataset)\n",
        "plt.show()"
      ],
      "metadata": {
        "id": "q0uoasPpu_aN"
      },
      "execution_count": null,
      "outputs": []
    },
    {
      "cell_type": "markdown",
      "source": [
        "# Step#04 Data Preprocessing"
      ],
      "metadata": {
        "id": "s9JWK3NOxRug"
      }
    },
    {
      "cell_type": "markdown",
      "source": [
        "1. Handling Missing Values"
      ],
      "metadata": {
        "id": "bMT6pecWx0Au"
      }
    },
    {
      "cell_type": "code",
      "source": [
        "# This fills the missing values in the Age column with the median age of the passengers in both the training and testing datasets. The inplace=True argument  ensures that the\n",
        "# changes are made directly to the DataFrames.\n",
        "training_dataset['Age'].fillna(training_dataset['Age'].median(), inplace=True)\n",
        "testing_dataset['Age'].fillna(testing_dataset['Age'].median(), inplace=True)\n",
        "\n",
        "# This fills the missing values in the Embarked column with the most frequent value (mode) of the Embarked column in both the training and testing datasets. The mode()[0] part\n",
        "# extracts the most frequent value.\n",
        "training_dataset['Embarked'].fillna(training_dataset['Embarked'].mode(), inplace=True)\n",
        "testing_dataset['Embarked'].fillna(testing_dataset['Embarked'].mode(), inplace=True)\n",
        "\n",
        "#This fills the missing values in the Fare column with the median fare of the passengers in the testing dataset.\n",
        "training_dataset['Fare'].fillna(training_dataset['Fare'].median(), inplace=True)\n",
        "\n",
        "#This removes the Cabin column from both the training and testing datasets. The column is likely dropped because it has too many missing values, making it less useful\n",
        "#for analysis or modeling.\n",
        "training_dataset.drop(columns=['Cabin'], inplace=True)\n",
        "testing_dataset.drop(columns=['Cabin'], inplace=True)"
      ],
      "metadata": {
        "id": "uPFWggDpyBbM"
      },
      "execution_count": 5,
      "outputs": []
    },
    {
      "cell_type": "markdown",
      "source": [
        "2. Encode Categorical Variables"
      ],
      "metadata": {
        "id": "Ndz5nKpsPMy2"
      }
    },
    {
      "cell_type": "code",
      "source": [
        "# The for loop iterates over the columns ['Sex', 'Embarked'].\n",
        "# fit_transform is applied to the training set to fit the encoder to the data and then transform it.\n",
        "# transform is applied to the test set to ensure that it uses the same encoding as the training set.\n",
        "label_encoder=LabelEncoder()\n",
        "# fit_transform on train_df[column]: The fit part learns the unique values of the column and assigns them an integer value. The transform part converts the original categorical\n",
        "# values into these integer values.\n",
        "# transform on test_df[column]: This ensures that the same encoding learned from the training set is applied to the test set, maintaining consistency between the two datasets.\n",
        "# This encoding allows the categorical columns Sex and Embarked to be used in machine learning models, which typically require numeric input.\n",
        "for column in ['Sex', 'Embarked']:\n",
        "    training_dataset[column]=label_encoder.fit_transform(training_dataset[column])\n",
        "    testing_dataset[column] = label_encoder.transform(testing_dataset[column])"
      ],
      "metadata": {
        "id": "PNPoGSy2TRdt"
      },
      "execution_count": 6,
      "outputs": []
    },
    {
      "cell_type": "markdown",
      "source": [
        "3. Feature Engineering"
      ],
      "metadata": {
        "id": "bVm4dLV7WuA8"
      }
    },
    {
      "cell_type": "code",
      "source": [
        "# This code extracts the title (e.g., \"Mr\", \"Mrs\", \"Miss\") from the Name column. It splits the name by the comma, takes the second part, then splits by the period,\n",
        "# and strips any extra whitespace. #Lamda function's syntax is as : lamda a: a+10\n",
        "\n",
        "training_dataset['Title']=training_dataset['Name'].apply(lambda x: x.split(',')[1].split('.')[0].strip())\n",
        "testing_dataset['Title']=testing_dataset['Name'].apply(lambda x: x.split(',')[1].split('.')[0].strip())\n",
        "\n",
        "# This dictionary maps common titles to themselves and rare titles to the category 'Rare'. The map method applies this mapping to the Title column in both the training and\n",
        "# testing datasets.\n",
        "\n",
        "title_map = {\n",
        "    \"Mr\": \"Mr\", \"Mrs\": \"Mrs\", \"Miss\": \"Miss\", \"Master\": \"Master\",\n",
        "    \"Dr\": \"Rare\", \"Rev\": \"Rare\", \"Col\": \"Rare\", \"Major\": \"Rare\",\n",
        "    \"Mlle\": \"Rare\", \"Countess\": \"Rare\", \"Ms\": \"Rare\", \"Lady\": \"Rare\",\n",
        "    \"Jonkheer\": \"Rare\", \"Don\": \"Rare\", \"Dona\": \"Rare\", \"Mme\": \"Rare\",\n",
        "    \"Capt\": \"Rare\", \"Sir\": \"Rare\"\n",
        "}\n",
        "\n",
        "training_dataset['Title']=training_dataset['Title'].map(title_map)\n",
        "testing_dataset['Title']=testing_dataset['Title'].map(title_map)\n",
        "\n",
        "# The titles are encoded into numeric values using LabelEncoder. The fit_transform method is applied to the training set, and the transform method ensures the same encoding is\n",
        "# applied to the test set. LabelEncoder can be used to normalize labels. It can also be used to transform non-numerical labels (as long as they are hashable and comparable) to\n",
        "# numerical labels.\n",
        "\n",
        "training_dataset['Title']=label_encoder.fit_transform(training_dataset['Title'])\n",
        "testing_dataset['Title']=label_encoder.fit_transform(testing_dataset['Title'])\n",
        "\n",
        "# The Name and Ticket columns are dropped from both the training and testing datasets as they are no longer needed for the analysis.\n",
        "\n",
        "training_dataset.drop(columns=['Name', 'Ticket'], inplace=True)\n",
        "testing_dataset.drop(columns=['Name', 'Ticket'], inplace=True)"
      ],
      "metadata": {
        "id": "kZHoLnjFeiNq"
      },
      "execution_count": 7,
      "outputs": []
    },
    {
      "cell_type": "markdown",
      "source": [
        "4. Feature Scaling"
      ],
      "metadata": {
        "id": "iYkBVjGZc5GW"
      }
    },
    {
      "cell_type": "code",
      "source": [
        "#StandardScaler: Standardizes features by removing the mean and scaling to unit variance. Standard Scaler z= (x-mean)/std\n",
        "\n",
        "scaler=StandardScaler()\n",
        "features=['Age', 'Fare', 'SibSp', 'Parch']\n",
        "\n",
        "# The fit(data) method is used to compute the mean and std dev for a given feature to be used further for scaling. The transform(data) method is used to\n",
        "# perform scaling using mean and std dev calculated using the . fit() method. The fit_transform() method does both fits and transform.\n",
        "#fit_transform computes the mean and standard deviation for each feature on the training data and scales the training data accordingly.\n",
        "\n",
        "training_dataset[features]=scaler.fit_transform(training_dataset[features])\n",
        "\n",
        "#transform uses the mean and standard deviation computed from the training data to scale the test data. This ensures that the test data is scaled in the same way as the training data,\n",
        "#which is crucial for consistency.\n",
        "\n",
        "testing_dataset[features]=scaler.transform(testing_dataset[features])\n",
        "\n",
        "training_dataset.head()\n",
        "\n"
      ],
      "metadata": {
        "id": "qpd3AbpwdBiJ",
        "colab": {
          "base_uri": "https://localhost:8080/",
          "height": 206
        },
        "outputId": "ecae2710-5e01-4d5c-927a-e2b47da80811"
      },
      "execution_count": 30,
      "outputs": [
        {
          "output_type": "execute_result",
          "data": {
            "text/plain": [
              "   PassengerId  Survived  Pclass  Sex       Age     SibSp     Parch      Fare  \\\n",
              "0            1         0       3    1 -0.565736  0.432793 -0.473674 -0.502445   \n",
              "1            2         1       1    0  0.663861  0.432793 -0.473674  0.786845   \n",
              "2            3         1       3    0 -0.258337 -0.474545 -0.473674 -0.488854   \n",
              "3            4         1       1    0  0.433312  0.432793 -0.473674  0.420730   \n",
              "4            5         0       3    1  0.433312 -0.474545 -0.473674 -0.486337   \n",
              "\n",
              "   Embarked  Title  \n",
              "0         2      2  \n",
              "1         0      3  \n",
              "2         2      1  \n",
              "3         2      3  \n",
              "4         2      2  "
            ],
            "text/html": [
              "\n",
              "  <div id=\"df-cdcb5110-3ad7-4aff-9edc-a9bcbbbb87b7\" class=\"colab-df-container\">\n",
              "    <div>\n",
              "<style scoped>\n",
              "    .dataframe tbody tr th:only-of-type {\n",
              "        vertical-align: middle;\n",
              "    }\n",
              "\n",
              "    .dataframe tbody tr th {\n",
              "        vertical-align: top;\n",
              "    }\n",
              "\n",
              "    .dataframe thead th {\n",
              "        text-align: right;\n",
              "    }\n",
              "</style>\n",
              "<table border=\"1\" class=\"dataframe\">\n",
              "  <thead>\n",
              "    <tr style=\"text-align: right;\">\n",
              "      <th></th>\n",
              "      <th>PassengerId</th>\n",
              "      <th>Survived</th>\n",
              "      <th>Pclass</th>\n",
              "      <th>Sex</th>\n",
              "      <th>Age</th>\n",
              "      <th>SibSp</th>\n",
              "      <th>Parch</th>\n",
              "      <th>Fare</th>\n",
              "      <th>Embarked</th>\n",
              "      <th>Title</th>\n",
              "    </tr>\n",
              "  </thead>\n",
              "  <tbody>\n",
              "    <tr>\n",
              "      <th>0</th>\n",
              "      <td>1</td>\n",
              "      <td>0</td>\n",
              "      <td>3</td>\n",
              "      <td>1</td>\n",
              "      <td>-0.565736</td>\n",
              "      <td>0.432793</td>\n",
              "      <td>-0.473674</td>\n",
              "      <td>-0.502445</td>\n",
              "      <td>2</td>\n",
              "      <td>2</td>\n",
              "    </tr>\n",
              "    <tr>\n",
              "      <th>1</th>\n",
              "      <td>2</td>\n",
              "      <td>1</td>\n",
              "      <td>1</td>\n",
              "      <td>0</td>\n",
              "      <td>0.663861</td>\n",
              "      <td>0.432793</td>\n",
              "      <td>-0.473674</td>\n",
              "      <td>0.786845</td>\n",
              "      <td>0</td>\n",
              "      <td>3</td>\n",
              "    </tr>\n",
              "    <tr>\n",
              "      <th>2</th>\n",
              "      <td>3</td>\n",
              "      <td>1</td>\n",
              "      <td>3</td>\n",
              "      <td>0</td>\n",
              "      <td>-0.258337</td>\n",
              "      <td>-0.474545</td>\n",
              "      <td>-0.473674</td>\n",
              "      <td>-0.488854</td>\n",
              "      <td>2</td>\n",
              "      <td>1</td>\n",
              "    </tr>\n",
              "    <tr>\n",
              "      <th>3</th>\n",
              "      <td>4</td>\n",
              "      <td>1</td>\n",
              "      <td>1</td>\n",
              "      <td>0</td>\n",
              "      <td>0.433312</td>\n",
              "      <td>0.432793</td>\n",
              "      <td>-0.473674</td>\n",
              "      <td>0.420730</td>\n",
              "      <td>2</td>\n",
              "      <td>3</td>\n",
              "    </tr>\n",
              "    <tr>\n",
              "      <th>4</th>\n",
              "      <td>5</td>\n",
              "      <td>0</td>\n",
              "      <td>3</td>\n",
              "      <td>1</td>\n",
              "      <td>0.433312</td>\n",
              "      <td>-0.474545</td>\n",
              "      <td>-0.473674</td>\n",
              "      <td>-0.486337</td>\n",
              "      <td>2</td>\n",
              "      <td>2</td>\n",
              "    </tr>\n",
              "  </tbody>\n",
              "</table>\n",
              "</div>\n",
              "    <div class=\"colab-df-buttons\">\n",
              "\n",
              "  <div class=\"colab-df-container\">\n",
              "    <button class=\"colab-df-convert\" onclick=\"convertToInteractive('df-cdcb5110-3ad7-4aff-9edc-a9bcbbbb87b7')\"\n",
              "            title=\"Convert this dataframe to an interactive table.\"\n",
              "            style=\"display:none;\">\n",
              "\n",
              "  <svg xmlns=\"http://www.w3.org/2000/svg\" height=\"24px\" viewBox=\"0 -960 960 960\">\n",
              "    <path d=\"M120-120v-720h720v720H120Zm60-500h600v-160H180v160Zm220 220h160v-160H400v160Zm0 220h160v-160H400v160ZM180-400h160v-160H180v160Zm440 0h160v-160H620v160ZM180-180h160v-160H180v160Zm440 0h160v-160H620v160Z\"/>\n",
              "  </svg>\n",
              "    </button>\n",
              "\n",
              "  <style>\n",
              "    .colab-df-container {\n",
              "      display:flex;\n",
              "      gap: 12px;\n",
              "    }\n",
              "\n",
              "    .colab-df-convert {\n",
              "      background-color: #E8F0FE;\n",
              "      border: none;\n",
              "      border-radius: 50%;\n",
              "      cursor: pointer;\n",
              "      display: none;\n",
              "      fill: #1967D2;\n",
              "      height: 32px;\n",
              "      padding: 0 0 0 0;\n",
              "      width: 32px;\n",
              "    }\n",
              "\n",
              "    .colab-df-convert:hover {\n",
              "      background-color: #E2EBFA;\n",
              "      box-shadow: 0px 1px 2px rgba(60, 64, 67, 0.3), 0px 1px 3px 1px rgba(60, 64, 67, 0.15);\n",
              "      fill: #174EA6;\n",
              "    }\n",
              "\n",
              "    .colab-df-buttons div {\n",
              "      margin-bottom: 4px;\n",
              "    }\n",
              "\n",
              "    [theme=dark] .colab-df-convert {\n",
              "      background-color: #3B4455;\n",
              "      fill: #D2E3FC;\n",
              "    }\n",
              "\n",
              "    [theme=dark] .colab-df-convert:hover {\n",
              "      background-color: #434B5C;\n",
              "      box-shadow: 0px 1px 3px 1px rgba(0, 0, 0, 0.15);\n",
              "      filter: drop-shadow(0px 1px 2px rgba(0, 0, 0, 0.3));\n",
              "      fill: #FFFFFF;\n",
              "    }\n",
              "  </style>\n",
              "\n",
              "    <script>\n",
              "      const buttonEl =\n",
              "        document.querySelector('#df-cdcb5110-3ad7-4aff-9edc-a9bcbbbb87b7 button.colab-df-convert');\n",
              "      buttonEl.style.display =\n",
              "        google.colab.kernel.accessAllowed ? 'block' : 'none';\n",
              "\n",
              "      async function convertToInteractive(key) {\n",
              "        const element = document.querySelector('#df-cdcb5110-3ad7-4aff-9edc-a9bcbbbb87b7');\n",
              "        const dataTable =\n",
              "          await google.colab.kernel.invokeFunction('convertToInteractive',\n",
              "                                                    [key], {});\n",
              "        if (!dataTable) return;\n",
              "\n",
              "        const docLinkHtml = 'Like what you see? Visit the ' +\n",
              "          '<a target=\"_blank\" href=https://colab.research.google.com/notebooks/data_table.ipynb>data table notebook</a>'\n",
              "          + ' to learn more about interactive tables.';\n",
              "        element.innerHTML = '';\n",
              "        dataTable['output_type'] = 'display_data';\n",
              "        await google.colab.output.renderOutput(dataTable, element);\n",
              "        const docLink = document.createElement('div');\n",
              "        docLink.innerHTML = docLinkHtml;\n",
              "        element.appendChild(docLink);\n",
              "      }\n",
              "    </script>\n",
              "  </div>\n",
              "\n",
              "\n",
              "<div id=\"df-8c70c6c8-5c0c-4626-b17a-2c3248fc5bf7\">\n",
              "  <button class=\"colab-df-quickchart\" onclick=\"quickchart('df-8c70c6c8-5c0c-4626-b17a-2c3248fc5bf7')\"\n",
              "            title=\"Suggest charts\"\n",
              "            style=\"display:none;\">\n",
              "\n",
              "<svg xmlns=\"http://www.w3.org/2000/svg\" height=\"24px\"viewBox=\"0 0 24 24\"\n",
              "     width=\"24px\">\n",
              "    <g>\n",
              "        <path d=\"M19 3H5c-1.1 0-2 .9-2 2v14c0 1.1.9 2 2 2h14c1.1 0 2-.9 2-2V5c0-1.1-.9-2-2-2zM9 17H7v-7h2v7zm4 0h-2V7h2v10zm4 0h-2v-4h2v4z\"/>\n",
              "    </g>\n",
              "</svg>\n",
              "  </button>\n",
              "\n",
              "<style>\n",
              "  .colab-df-quickchart {\n",
              "      --bg-color: #E8F0FE;\n",
              "      --fill-color: #1967D2;\n",
              "      --hover-bg-color: #E2EBFA;\n",
              "      --hover-fill-color: #174EA6;\n",
              "      --disabled-fill-color: #AAA;\n",
              "      --disabled-bg-color: #DDD;\n",
              "  }\n",
              "\n",
              "  [theme=dark] .colab-df-quickchart {\n",
              "      --bg-color: #3B4455;\n",
              "      --fill-color: #D2E3FC;\n",
              "      --hover-bg-color: #434B5C;\n",
              "      --hover-fill-color: #FFFFFF;\n",
              "      --disabled-bg-color: #3B4455;\n",
              "      --disabled-fill-color: #666;\n",
              "  }\n",
              "\n",
              "  .colab-df-quickchart {\n",
              "    background-color: var(--bg-color);\n",
              "    border: none;\n",
              "    border-radius: 50%;\n",
              "    cursor: pointer;\n",
              "    display: none;\n",
              "    fill: var(--fill-color);\n",
              "    height: 32px;\n",
              "    padding: 0;\n",
              "    width: 32px;\n",
              "  }\n",
              "\n",
              "  .colab-df-quickchart:hover {\n",
              "    background-color: var(--hover-bg-color);\n",
              "    box-shadow: 0 1px 2px rgba(60, 64, 67, 0.3), 0 1px 3px 1px rgba(60, 64, 67, 0.15);\n",
              "    fill: var(--button-hover-fill-color);\n",
              "  }\n",
              "\n",
              "  .colab-df-quickchart-complete:disabled,\n",
              "  .colab-df-quickchart-complete:disabled:hover {\n",
              "    background-color: var(--disabled-bg-color);\n",
              "    fill: var(--disabled-fill-color);\n",
              "    box-shadow: none;\n",
              "  }\n",
              "\n",
              "  .colab-df-spinner {\n",
              "    border: 2px solid var(--fill-color);\n",
              "    border-color: transparent;\n",
              "    border-bottom-color: var(--fill-color);\n",
              "    animation:\n",
              "      spin 1s steps(1) infinite;\n",
              "  }\n",
              "\n",
              "  @keyframes spin {\n",
              "    0% {\n",
              "      border-color: transparent;\n",
              "      border-bottom-color: var(--fill-color);\n",
              "      border-left-color: var(--fill-color);\n",
              "    }\n",
              "    20% {\n",
              "      border-color: transparent;\n",
              "      border-left-color: var(--fill-color);\n",
              "      border-top-color: var(--fill-color);\n",
              "    }\n",
              "    30% {\n",
              "      border-color: transparent;\n",
              "      border-left-color: var(--fill-color);\n",
              "      border-top-color: var(--fill-color);\n",
              "      border-right-color: var(--fill-color);\n",
              "    }\n",
              "    40% {\n",
              "      border-color: transparent;\n",
              "      border-right-color: var(--fill-color);\n",
              "      border-top-color: var(--fill-color);\n",
              "    }\n",
              "    60% {\n",
              "      border-color: transparent;\n",
              "      border-right-color: var(--fill-color);\n",
              "    }\n",
              "    80% {\n",
              "      border-color: transparent;\n",
              "      border-right-color: var(--fill-color);\n",
              "      border-bottom-color: var(--fill-color);\n",
              "    }\n",
              "    90% {\n",
              "      border-color: transparent;\n",
              "      border-bottom-color: var(--fill-color);\n",
              "    }\n",
              "  }\n",
              "</style>\n",
              "\n",
              "  <script>\n",
              "    async function quickchart(key) {\n",
              "      const quickchartButtonEl =\n",
              "        document.querySelector('#' + key + ' button');\n",
              "      quickchartButtonEl.disabled = true;  // To prevent multiple clicks.\n",
              "      quickchartButtonEl.classList.add('colab-df-spinner');\n",
              "      try {\n",
              "        const charts = await google.colab.kernel.invokeFunction(\n",
              "            'suggestCharts', [key], {});\n",
              "      } catch (error) {\n",
              "        console.error('Error during call to suggestCharts:', error);\n",
              "      }\n",
              "      quickchartButtonEl.classList.remove('colab-df-spinner');\n",
              "      quickchartButtonEl.classList.add('colab-df-quickchart-complete');\n",
              "    }\n",
              "    (() => {\n",
              "      let quickchartButtonEl =\n",
              "        document.querySelector('#df-8c70c6c8-5c0c-4626-b17a-2c3248fc5bf7 button');\n",
              "      quickchartButtonEl.style.display =\n",
              "        google.colab.kernel.accessAllowed ? 'block' : 'none';\n",
              "    })();\n",
              "  </script>\n",
              "</div>\n",
              "\n",
              "    </div>\n",
              "  </div>\n"
            ],
            "application/vnd.google.colaboratory.intrinsic+json": {
              "type": "dataframe",
              "variable_name": "training_dataset",
              "summary": "{\n  \"name\": \"training_dataset\",\n  \"rows\": 891,\n  \"fields\": [\n    {\n      \"column\": \"PassengerId\",\n      \"properties\": {\n        \"dtype\": \"number\",\n        \"std\": 257,\n        \"min\": 1,\n        \"max\": 891,\n        \"num_unique_values\": 891,\n        \"samples\": [\n          710,\n          440,\n          841\n        ],\n        \"semantic_type\": \"\",\n        \"description\": \"\"\n      }\n    },\n    {\n      \"column\": \"Survived\",\n      \"properties\": {\n        \"dtype\": \"number\",\n        \"std\": 0,\n        \"min\": 0,\n        \"max\": 1,\n        \"num_unique_values\": 2,\n        \"samples\": [\n          1,\n          0\n        ],\n        \"semantic_type\": \"\",\n        \"description\": \"\"\n      }\n    },\n    {\n      \"column\": \"Pclass\",\n      \"properties\": {\n        \"dtype\": \"number\",\n        \"std\": 0,\n        \"min\": 1,\n        \"max\": 3,\n        \"num_unique_values\": 3,\n        \"samples\": [\n          3,\n          1\n        ],\n        \"semantic_type\": \"\",\n        \"description\": \"\"\n      }\n    },\n    {\n      \"column\": \"Sex\",\n      \"properties\": {\n        \"dtype\": \"number\",\n        \"std\": 0,\n        \"min\": 0,\n        \"max\": 1,\n        \"num_unique_values\": 2,\n        \"samples\": [\n          0,\n          1\n        ],\n        \"semantic_type\": \"\",\n        \"description\": \"\"\n      }\n    },\n    {\n      \"column\": \"Age\",\n      \"properties\": {\n        \"dtype\": \"number\",\n        \"std\": 1.0005616400330457,\n        \"min\": -2.2241560799483384,\n        \"max\": 3.891554451560013,\n        \"num_unique_values\": 88,\n        \"samples\": [\n          -2.1987956316523127,\n          -0.5657364610748749\n        ],\n        \"semantic_type\": \"\",\n        \"description\": \"\"\n      }\n    },\n    {\n      \"column\": \"SibSp\",\n      \"properties\": {\n        \"dtype\": \"number\",\n        \"std\": 1.0005616400330457,\n        \"min\": -0.47454519624983965,\n        \"max\": 6.784163299176892,\n        \"num_unique_values\": 7,\n        \"samples\": [\n          0.4327933656785018,\n          -0.47454519624983965\n        ],\n        \"semantic_type\": \"\",\n        \"description\": \"\"\n      }\n    },\n    {\n      \"column\": \"Parch\",\n      \"properties\": {\n        \"dtype\": \"number\",\n        \"std\": 1.0005616400330457,\n        \"min\": -0.47367360929846053,\n        \"max\": 6.974147318082628,\n        \"num_unique_values\": 7,\n        \"samples\": [\n          -0.47367360929846053,\n          0.7676298785983875\n        ],\n        \"semantic_type\": \"\",\n        \"description\": \"\"\n      }\n    },\n    {\n      \"column\": \"Fare\",\n      \"properties\": {\n        \"dtype\": \"number\",\n        \"std\": 1.0005616400330457,\n        \"min\": -0.6484216535389205,\n        \"max\": 9.667166525013505,\n        \"num_unique_values\": 248,\n        \"samples\": [\n          -0.42207354059350805,\n          0.395813560675251\n        ],\n        \"semantic_type\": \"\",\n        \"description\": \"\"\n      }\n    },\n    {\n      \"column\": \"Embarked\",\n      \"properties\": {\n        \"dtype\": \"number\",\n        \"std\": 0,\n        \"min\": 0,\n        \"max\": 3,\n        \"num_unique_values\": 4,\n        \"samples\": [\n          0,\n          3\n        ],\n        \"semantic_type\": \"\",\n        \"description\": \"\"\n      }\n    },\n    {\n      \"column\": \"Title\",\n      \"properties\": {\n        \"dtype\": \"number\",\n        \"std\": 0,\n        \"min\": 0,\n        \"max\": 5,\n        \"num_unique_values\": 6,\n        \"samples\": [\n          2,\n          3\n        ],\n        \"semantic_type\": \"\",\n        \"description\": \"\"\n      }\n    }\n  ]\n}"
            }
          },
          "metadata": {},
          "execution_count": 30
        }
      ]
    },
    {
      "cell_type": "markdown",
      "source": [
        "# Step#05 Model training and evaluation"
      ],
      "metadata": {
        "id": "nASyiUIMlnZN"
      }
    },
    {
      "cell_type": "markdown",
      "source": [
        "1. Split the Data\n",
        "\n"
      ],
      "metadata": {
        "id": "OyYGzY-ZmMgf"
      }
    },
    {
      "cell_type": "code",
      "source": [
        "X= training_dataset.drop('Survived', axis=1)\n",
        "y=training_dataset['Survived']\n",
        "X_train, X_val, y_train, y_val = train_test_split(X,y, random_state=42, test_size=0.2)"
      ],
      "metadata": {
        "id": "9Q2-bQEvwKoy"
      },
      "execution_count": 9,
      "outputs": []
    },
    {
      "cell_type": "markdown",
      "source": [
        "2. Train multiple models"
      ],
      "metadata": {
        "id": "BRNteYH8z5jX"
      }
    },
    {
      "cell_type": "code",
      "source": [
        "# Creating a dictionary of classifiers where the key is the classifier name and the value is the instantiated classifier object.Adjusting the LogisticRegression\n",
        "# parameter max_iter to ensure convergence.\n",
        "\n",
        "classifiers = {\n",
        "    'Logistic Regression': LogisticRegression(max_iter=200),\n",
        "    'k-Nearest Neighbors': KNeighborsClassifier(),\n",
        "    'Decision Tree': DecisionTreeClassifier(),\n",
        "    'Random Forest': RandomForestClassifier(),\n",
        "    'SVM': SVC(),\n",
        "    'Naive Bayes': GaussianNB()\n",
        "}\n",
        "\n",
        "# Output of printing classifiers.items():\n",
        "# dict_items([('Logistic Regression', LogisticRegression(max_iter=200)), ('k-Nearest Neighbors', KNeighborsClassifier()), ('Decision Tree', DecisionTreeClassifier()),\n",
        "# ('Random Forest', RandomForestClassifier()), ('SVM', SVC()), ('Naive Bayes', GaussianNB())])\n",
        "\n",
        "# This loop iterates through each item in the classifiers, dictionary.name is the key (a string representing the classifier's name like 'SVM').\n",
        "# clf is the value (the classifier object itself, e.g., LogisticRegression(), KNeighborsClassifier(), etc.).\n",
        "\n",
        "for name, clf in classifiers.items():\n",
        "\n",
        "# clf.fit(X_train, y_train) trains the classifier (clf) using the training data (X_train and y_train).fit is a method in scikit-learn that trains the model on the provided data.\n",
        "  clf.fit(X_train, y_train)\n",
        "\n",
        "# y_pred = clf.predict(X_val) makes predictions on the validation set (X_val) using the trained model.predict is a method that generates the predicted values (labels) for the\n",
        "# input data. We n\n",
        "  y_pred=clf.predict(X_val)\n",
        "\n",
        "#This line prints the name of the classifier currently being evaluated, followed by a newline character for better readability.\n",
        "  print(f'{name}:\\n')\n",
        "\n",
        "# classification_report(y_val, y_pred) generates a detailed classification report, which includes metrics such as precision, recall, f1-score, and support for each class.\n",
        "# y_val is the true labels for the validation set, and y_pred is the predicted labels.\n",
        "\n",
        "  print(classification_report(y_val, y_pred))  # Print classification report\n",
        "  print(f'Accuracy: {accuracy_score(y_val, y_pred)}\\n')  # Print accuracy score\n"
      ],
      "metadata": {
        "id": "vpJ6YZHdmP-b"
      },
      "execution_count": null,
      "outputs": []
    },
    {
      "cell_type": "markdown",
      "source": [
        "# Step#06 Hyperparameter Tuning (Example for K nearest neighbor)\n",
        "\n",
        "Hyperparamter tuning is used to increase the accuracy of model, As for the k nearest neighbor it's pretty less like 56.9% or 0.569. So, that's why it's being fine tuned"
      ],
      "metadata": {
        "id": "mVXysIPmBVgD"
      }
    },
    {
      "cell_type": "markdown",
      "source": [
        "1. Grid Search for Hyperparameters"
      ],
      "metadata": {
        "id": "Mr0QQ8S9BotJ"
      }
    },
    {
      "cell_type": "code",
      "source": [
        "# param_grid is a dictionary that specifies the hyperparameters and their respective values to be tested:\n",
        "# 'n_neighbors': List of values for the number of neighbors to use.\n",
        "# 'weights': List of strategies to use for weighting the neighbors ('uniform' means all neighbors have equal weight, 'distance' means closer neighbors have more weight).\n",
        "# 'metric': List of distance metrics to use ('euclidean', 'manhattan', and 'minkowski').\n",
        "\n",
        "param_grid={\n",
        "    'n_neighbors':[7,9,11,13,15,17,19],\n",
        "    'weights':['unform', 'distance'],\n",
        "    'metric':['euclidean', 'manhattan', 'minkowski']\n",
        "}\n",
        "\n",
        "knn= KNeighborsClassifier()\n",
        "\n",
        "# GridSearchCV: This is a scikit-learn class used to perform an exhaustive search over a specified parameter grid.\n",
        "# estimator=knn: The estimator to use is our k-NN classifier.\n",
        "# param_grid=param_grid: The grid of parameters to search over is the one we defined earlier.\n",
        "# cv=3: Cross-validation strategy to use. Here, cv=3 means 3-fold cross-validation. The data will be split into three parts, and the model will be trained and validated three times,\n",
        "# each time using a different part for validation and the remaining parts for training.\n",
        "# n_jobs=-1: This parameter allows the grid search to use all available CPU cores for computation, speeding up the process.\n",
        "# verbose=2: This parameter controls the verbosity of the output. A value of 2 means that it will print messages about the progress of the grid search.\n",
        "\n",
        "grid_search_knn= GridSearchCV(estimator=knn, param_grid=param_grid, cv=3, n_jobs=-1, verbose=2)\n",
        "grid_search_knn.fit(X_train, y_train)\n",
        "\n",
        "# grid_search_knn.best_params_ prints the best combination of hyperparameters found during the search.\n",
        "# grid_search_knn.best_score_ prints the best cross-validation score achieved with the best parameters.\n",
        "print(grid_search_knn.best_params_)\n",
        "#print(grid_search_knn.best_score_)"
      ],
      "metadata": {
        "id": "uuON_pC6Brzm"
      },
      "execution_count": null,
      "outputs": []
    },
    {
      "cell_type": "markdown",
      "source": [
        "2. Train final k-NN Model\n",
        "\n",
        "Accuracy of k nearest neighbour improved by almost 8% to 64.24% from inital value of 56.9%\n",
        "\n",
        "\n"
      ],
      "metadata": {
        "id": "yPyHlSrvs9Pm"
      }
    },
    {
      "cell_type": "code",
      "source": [
        "#Stores the best parameters found by the grid search.\n",
        "\n",
        "best_params= grid_search_knn.best_params_\n",
        "\n",
        "#Creates a new k-NN classifier using the best parameters.\n",
        "\n",
        "best_knn=KNeighborsClassifier(**best_params)\n",
        "\n",
        "best_knn.fit(X_train, y_train)\n",
        "y_pred_knn= best_knn.predict(X_val)\n",
        "\n",
        "\n",
        "print(classification_report(y_val, y_pred_knn))\n",
        "print(f'Accuracy: {accuracy_score(y_val, y_pred_knn)}')\n"
      ],
      "metadata": {
        "id": "zOhDkFBDtIQe"
      },
      "execution_count": null,
      "outputs": []
    },
    {
      "cell_type": "markdown",
      "source": [
        "# Step#07 Prediction on test data and Plotting of results"
      ],
      "metadata": {
        "id": "2Iw9QYIlxCXb"
      }
    },
    {
      "cell_type": "code",
      "source": [
        "conf_matrix = confusion_matrix(y_val, y_pred_knn)\n",
        "sns.heatmap(conf_matrix, annot=True, fmt='d', cmap='Blues')\n",
        "plt.xlabel('Predicted')\n",
        "plt.ylabel('Actual')\n",
        "plt.title('Confusion Matrix for k-NN Model')\n",
        "plt.show()\n",
        "\n",
        "# The confusion matrix for the k-NN model shows that the model accurately predicted 97 passengers who did not survive and 18 passengers who\n",
        "# survived. However, it incorrectly classified 56 actual survivors as non-survivors and 8 non-survivors as survivors, indicating a significant\n",
        "# number of false negatives and suggesting room for improvement in model performance."
      ],
      "metadata": {
        "id": "QYIJKKSpxQPM"
      },
      "execution_count": null,
      "outputs": []
    },
    {
      "cell_type": "markdown",
      "source": [
        "# `Step#08 Saving the Model`"
      ],
      "metadata": {
        "id": "mPyCeskt0eEH"
      }
    },
    {
      "cell_type": "code",
      "source": [
        "joblib.dump(best_knn, 'Titanic_survivor_prediction_2.pkl')"
      ],
      "metadata": {
        "colab": {
          "base_uri": "https://localhost:8080/"
        },
        "id": "VhgPyuCs2xom",
        "outputId": "93880bc0-1480-48d1-c029-f012befc49b2"
      },
      "execution_count": 25,
      "outputs": [
        {
          "output_type": "execute_result",
          "data": {
            "text/plain": [
              "['Titanic_survivor_prediction_2.pkl']"
            ]
          },
          "metadata": {},
          "execution_count": 25
        }
      ]
    },
    {
      "cell_type": "markdown",
      "source": [
        "# Step#09 Testing on real world data"
      ],
      "metadata": {
        "id": "PDM1Zp_ZIq99"
      }
    },
    {
      "cell_type": "code",
      "source": [
        "sample_data = {\n",
        "    'PassengerId': [1],    # Example ID, not used for prediction\n",
        "    'Pclass': [1],         # Example class: 1 for first class\n",
        "    'Sex': [1],            # Example encoding: 1 for male\n",
        "    'Age': [29],\n",
        "    'SibSp': [1],\n",
        "    'Parch': [0],\n",
        "    'Fare': [50],\n",
        "    'Embarked': [1],       # Example encoding: 1 for C\n",
        "    'Title': [0]           # Example encoding: 0 for 'Mr'\n",
        "}\n",
        "\n",
        "# Convert to DataFrame\n",
        "sample_df = pd.DataFrame(sample_data)\n",
        "# Predict\n",
        "survival_prediction = best_knn.predict(sample_df)\n",
        "print(f'Survival Prediction: {\"Survived\" if survival_prediction[0] == 1 else \"Did not survive\"}')\n",
        "\n"
      ],
      "metadata": {
        "colab": {
          "base_uri": "https://localhost:8080/"
        },
        "id": "HXfB2Q97EZX_",
        "outputId": "c32177b8-0aaf-488d-ff85-3a12619c6375"
      },
      "execution_count": 42,
      "outputs": [
        {
          "output_type": "stream",
          "name": "stdout",
          "text": [
            "Survival Prediction: Survived\n"
          ]
        }
      ]
    }
  ]
}